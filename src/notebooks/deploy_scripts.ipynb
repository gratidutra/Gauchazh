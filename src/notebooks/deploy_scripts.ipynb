{
 "cells": [
  {
   "cell_type": "code",
   "execution_count": null,
   "id": "e3361dc3-e4ed-4d6d-90dd-3a473fce3f4b",
   "metadata": {},
   "outputs": [],
   "source": [
    "# Function dependencies, for example:\n",
    "# package>=version\n",
    "\n",
    "#requests == 2.22.0\n",
    "#google-cloud-storage == 1.17.0\n",
    "#pickle-mixin==1.0.2\n",
    "#scikit-learn==1.0.1\n",
    "\n",
    "import requests\n",
    "import pickle\n",
    "from google.cloud import storage\n",
    "import numpy\n",
    "from sklearn.ensemble import RandomForestClassifier\n",
    "\n",
    "def probabilidade(request):\n",
    "    \n",
    "    if request.method == 'GET':\n",
    "        return \"Bem-Vindo ao new clients probability\"\n",
    "    \n",
    "    if request.method == 'POST':\n",
    "        \n",
    "        storage_client = storage.Client()\n",
    "        bucket = storage_client.get_bucket('model_new_clients_probability')  \n",
    "        data = request.get_json()\n",
    "        \n",
    "        blob = bucket.blob('models/random_forest/mncp_random.pkl')\n",
    "        blob.download_to_filename('/tmp/mncp_random.pkl')\n",
    "        model = pickle.load(open('/tmp/mncp_random.pkl', 'rb'))\n",
    "        data_teste = data['data_teste']\n",
    "        data_teste = numpy.array(data_teste).reshape((1,-1))\n",
    "        output = model.predict_proba(data_teste)\n",
    "        output = round(output[0,1]*100, 2)\n",
    "            \n",
    "    return 'A probabilidade deste usuário se tornar assinante é de: ' + str(output) + '%'\n"
   ]
  }
 ],
 "metadata": {
  "kernelspec": {
   "display_name": "new-clients-probability",
   "language": "python",
   "name": "new-clients-probability"
  },
  "language_info": {
   "codemirror_mode": {
    "name": "ipython",
    "version": 3
   },
   "file_extension": ".py",
   "mimetype": "text/x-python",
   "name": "python",
   "nbconvert_exporter": "python",
   "pygments_lexer": "ipython3",
   "version": "3.9.9"
  }
 },
 "nbformat": 4,
 "nbformat_minor": 5
}
